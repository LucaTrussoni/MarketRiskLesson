{
 "cells": [
  {
   "cell_type": "markdown",
   "metadata": {},
   "source": [
    "# Market risk lesson, practice.\n",
    "## 1.How to calculate VaR\n",
    "## 1.1 Parametric, Cornish Fisher and Historical VaR\n",
    "In this section we will calculate the VaR of an equity with parametric, CF and Historical approach\n",
    "Let first load a couple of libraries:"
   ]
  },
  {
   "cell_type": "code",
   "execution_count": 1,
   "metadata": {},
   "outputs": [],
   "source": [
    "from pandas_datareader import data\n",
    "import pandas as pd\n",
    "import numpy as np\n",
    "import matplotlib.pyplot as plt\n",
    "from scipy.stats import norm\n",
    "from scipy.stats import gaussian_kde\n",
    "from scipy.stats import kurtosis\n",
    "from scipy.stats import skew"
   ]
  },
  {
   "cell_type": "markdown",
   "metadata": {},
   "source": [
    "We will now download the time series of Standard & Poor's 500 index, at weekly timestep:"
   ]
  },
  {
   "cell_type": "code",
   "execution_count": 2,
   "metadata": {},
   "outputs": [],
   "source": [
    "sp500 = data.DataReader(\"XSPX.MI\", \n",
    "                       start='2018-3-31', \n",
    "                       end='2021-3-31', \n",
    "                       data_source='yahoo')['Adj Close']\n",
    "sp500=sp500.resample('W').last()"
   ]
  },
  {
   "cell_type": "markdown",
   "metadata": {},
   "source": [
    "First thing to mind: why I downloaded 3 years of data? Well... that has to do with the numerosity of data.\n",
    "We need to extract the 95th percentile. That means that with 1y of data we are lefth with two/three returns in the tail of the distribution. With three years of data we have 8 values, much better:"
   ]
  },
  {
   "cell_type": "code",
   "execution_count": 3,
   "metadata": {},
   "outputs": [
    {
     "data": {
      "text/plain": [
       "157"
      ]
     },
     "execution_count": 3,
     "metadata": {},
     "output_type": "execute_result"
    }
   ],
   "source": [
    "len(sp500)"
   ]
  },
  {
   "cell_type": "code",
   "execution_count": 4,
   "metadata": {},
   "outputs": [
    {
     "data": {
      "text/plain": [
       "149.15"
      ]
     },
     "execution_count": 4,
     "metadata": {},
     "output_type": "execute_result"
    }
   ],
   "source": [
    "len(sp500)*0.95"
   ]
  },
  {
   "cell_type": "code",
   "execution_count": 5,
   "metadata": {},
   "outputs": [
    {
     "data": {
      "text/plain": [
       "49.4"
      ]
     },
     "execution_count": 5,
     "metadata": {},
     "output_type": "execute_result"
    }
   ],
   "source": [
    "52*0.95"
   ]
  },
  {
   "cell_type": "markdown",
   "metadata": {},
   "source": [
    "In general the variance of a percentile extimator can be calculated using its asymptotical limit:\n",
    "$$ \\sigma^2 = \\frac{1}{f(x)}\\frac{P(1-P)}{N} $$\n",
    "where $f(x)$ is the pdf of the random variabole of which we are extimating the percentile."
   ]
  },
  {
   "cell_type": "markdown",
   "metadata": {},
   "source": [
    "### Parametric and Cornish-Fisher VaR"
   ]
  },
  {
   "cell_type": "markdown",
   "metadata": {},
   "source": [
    "In order to calculate VaR we need the logaritmic differences of the time series:\n",
    "$$\n",
    "Y_t=log(X_t/X_{t-1})\n",
    "$$"
   ]
  },
  {
   "cell_type": "code",
   "execution_count": 6,
   "metadata": {},
   "outputs": [],
   "source": [
    "sp500_ylds=np.log(sp500).diff()[1:]"
   ]
  },
  {
   "cell_type": "code",
   "execution_count": 7,
   "metadata": {},
   "outputs": [
    {
     "data": {
      "text/plain": [
       "Date\n",
       "2018-04-15    0.008323\n",
       "2018-04-22    0.006969\n",
       "2018-04-29    0.015061\n",
       "2018-05-06    0.007949\n",
       "2018-05-13    0.027640\n",
       "                ...   \n",
       "2021-03-07   -0.007914\n",
       "2021-03-14    0.047380\n",
       "2021-03-21    0.002416\n",
       "2021-03-28    0.012945\n",
       "2021-04-04    0.016066\n",
       "Freq: W-SUN, Name: Adj Close, Length: 156, dtype: float64"
      ]
     },
     "execution_count": 7,
     "metadata": {},
     "output_type": "execute_result"
    }
   ],
   "source": [
    "sp500_ylds"
   ]
  },
  {
   "cell_type": "markdown",
   "metadata": {},
   "source": [
    "We need to cut the first value since we do not have a difference for that value. Now we have our random variable. Let's have a look at the distribution:"
   ]
  },
  {
   "cell_type": "code",
   "execution_count": 8,
   "metadata": {},
   "outputs": [
    {
     "data": {
      "text/plain": [
       "[<matplotlib.lines.Line2D at 0x29ae04b2d48>]"
      ]
     },
     "execution_count": 8,
     "metadata": {},
     "output_type": "execute_result"
    },
    {
     "data": {
      "image/png": "[encoded data removed]",
      "text/plain": [
       "<Figure size 432x288 with 1 Axes>"
      ]
     },
     "metadata": {
      "needs_background": "light"
     },
     "output_type": "display_data"
    }
   ],
   "source": [
    "t_range = np.linspace(-0.1,0.1,200)\n",
    "plt.hist(sp500_ylds, 50, density=1, facecolor='green', alpha=0.5);\n",
    "pdf_estimator=gaussian_kde(sp500_ylds,bw_method=0.2)\n",
    "plt.plot(t_range,pdf_estimator(t_range),lw=\"2\",color=\"blue\")"
   ]
  },
  {
   "cell_type": "markdown",
   "metadata": {},
   "source": [
    "Well, the distributions seams quite normal... Let's look at what parametric and Cornish Fisher VaR will look like. For parametric VaR we need to calculate:\n",
    "$$\n",
    "\\textrm{ParametricVaR}_{0.95}=\\Phi^{-1}(0.95) \\times \\sigma_Y\n",
    "$$"
   ]
  },
  {
   "cell_type": "code",
   "execution_count": 9,
   "metadata": {},
   "outputs": [],
   "source": [
    "VaR95_parametric_week=np.std(sp500_ylds) * norm.ppf(0.05)"
   ]
  },
  {
   "cell_type": "code",
   "execution_count": 10,
   "metadata": {},
   "outputs": [
    {
     "data": {
      "text/plain": [
       "-0.04444717451219423"
      ]
     },
     "execution_count": 10,
     "metadata": {},
     "output_type": "execute_result"
    }
   ],
   "source": [
    "VaR95_parametric_week"
   ]
  },
  {
   "cell_type": "markdown",
   "metadata": {},
   "source": [
    "Ok, so we can expect to loose no more than 4.44% per cent in a week. Let's look at Cornish Fisher VaR (remember formulas from the lesson!). We have"
   ]
  },
  {
   "cell_type": "code",
   "execution_count": 11,
   "metadata": {},
   "outputs": [],
   "source": [
    "sp500_skew=skew(sp500_ylds)\n",
    "sp500_kurt=kurtosis(sp500_ylds)\n",
    "sp500_vol=np.std(sp500_ylds)\n",
    "q=norm.ppf(0.05)\n",
    "z_CornishFisher=q+sp500_skew*(q**2-1)/6+(q**3-3*q)*sp500_kurt/24-(2*q**3-5*q)/36*sp500_skew**2\n",
    "VaR95_CF_week=np.std(sp500_ylds) * z_CornishFisher"
   ]
  },
  {
   "cell_type": "code",
   "execution_count": 12,
   "metadata": {},
   "outputs": [
    {
     "data": {
      "text/plain": [
       "-0.05102929875116967"
      ]
     },
     "execution_count": 12,
     "metadata": {},
     "output_type": "execute_result"
    }
   ],
   "source": [
    "VaR95_CF_week"
   ]
  },
  {
   "cell_type": "markdown",
   "metadata": {},
   "source": [
    "Cornish Fisher VaR is much higher, we are looking at 5.10%, it is 16% more respect parametric VaR. Why that?\n",
    "The answer is because the distribution of returns is not very close to a normal distribution, se we are not in the hypotheses of the parametric VaR.\n",
    "Let's look at historical VaR. Well that's simple:"
   ]
  },
  {
   "cell_type": "code",
   "execution_count": 13,
   "metadata": {},
   "outputs": [],
   "source": [
    "VaR95_Hist_week=np.percentile(sp500_ylds,5)"
   ]
  },
  {
   "cell_type": "code",
   "execution_count": 14,
   "metadata": {},
   "outputs": [
    {
     "data": {
      "text/plain": [
       "-0.03695481811222279"
      ]
     },
     "execution_count": 14,
     "metadata": {},
     "output_type": "execute_result"
    }
   ],
   "source": [
    "VaR95_Hist_week"
   ]
  },
  {
   "cell_type": "markdown",
   "metadata": {},
   "source": [
    "Well... that's strange: historical VaR is smaller than parametric and historical VaR. Why? Let me give you a clue..."
   ]
  },
  {
   "cell_type": "code",
   "execution_count": 15,
   "metadata": {},
   "outputs": [
    {
     "data": {
      "text/plain": [
       "0.5136942939601179"
      ]
     },
     "execution_count": 15,
     "metadata": {},
     "output_type": "execute_result"
    }
   ],
   "source": [
    "np.log(sp500[-1]/sp500[0])"
   ]
  },
  {
   "cell_type": "markdown",
   "metadata": {},
   "source": [
    "We need to remove bias! Let's do that:"
   ]
  },
  {
   "cell_type": "code",
   "execution_count": 16,
   "metadata": {},
   "outputs": [],
   "source": [
    "sp500_ylds_modified=sp500_ylds-np.mean(sp500_ylds)"
   ]
  },
  {
   "cell_type": "code",
   "execution_count": 17,
   "metadata": {},
   "outputs": [],
   "source": [
    "VaR95_Hist_week=np.percentile(sp500_ylds_modified,5)"
   ]
  },
  {
   "cell_type": "code",
   "execution_count": 18,
   "metadata": {},
   "outputs": [
    {
     "data": {
      "text/plain": [
       "-0.040247730252992775"
      ]
     },
     "execution_count": 18,
     "metadata": {},
     "output_type": "execute_result"
    }
   ],
   "source": [
    "VaR95_Hist_week"
   ]
  },
  {
   "cell_type": "markdown",
   "metadata": {},
   "source": [
    "So we have now three VaRs, parametri, CF and historical. Let's loot at the \"future\" of SP500 in order to see if our measure are good..."
   ]
  },
  {
   "cell_type": "code",
   "execution_count": 19,
   "metadata": {},
   "outputs": [],
   "source": [
    "sp500_future = data.DataReader(\"XSPX.MI\", \n",
    "                       start='2021-3-31', \n",
    "                       end='2021-4-21', \n",
    "                       data_source='yahoo')['Adj Close']"
   ]
  },
  {
   "cell_type": "code",
   "execution_count": 20,
   "metadata": {},
   "outputs": [
    {
     "data": {
      "text/plain": [
       "Date\n",
       "2021-03-31    64.000000\n",
       "2021-04-01    64.279999\n",
       "2021-04-06    65.080002\n",
       "2021-04-07    64.730003\n",
       "2021-04-08    64.910004\n",
       "2021-04-09    65.209999\n",
       "2021-04-12    65.360001\n",
       "2021-04-13    65.419998\n",
       "2021-04-14    65.370003\n",
       "2021-04-15    65.680000\n",
       "2021-04-16    65.820000\n",
       "2021-04-19    65.459999\n",
       "2021-04-20    64.730003\n",
       "2021-04-21    65.209999\n",
       "Name: Adj Close, dtype: float64"
      ]
     },
     "execution_count": 20,
     "metadata": {},
     "output_type": "execute_result"
    }
   ],
   "source": [
    "sp500_future"
   ]
  },
  {
   "cell_type": "code",
   "execution_count": 21,
   "metadata": {},
   "outputs": [
    {
     "data": {
      "text/plain": [
       "0.018729734005761858"
      ]
     },
     "execution_count": 21,
     "metadata": {},
     "output_type": "execute_result"
    }
   ],
   "source": [
    "np.log(sp500_future[-1]/sp500_future[0])"
   ]
  },
  {
   "cell_type": "markdown",
   "metadata": {},
   "source": [
    "We cannot decide. We need to do some backtesting..."
   ]
  },
  {
   "cell_type": "markdown",
   "metadata": {},
   "source": [
    "## 1.2.Backtesting of VaR"
   ]
  },
  {
   "cell_type": "code",
   "execution_count": 22,
   "metadata": {},
   "outputs": [],
   "source": [
    "sp500_btest = data.DataReader(\"XSPX.MI\", \n",
    "                       start='2015-3-31', \n",
    "                       end='2021-3-31', \n",
    "                       data_source='yahoo')['Adj Close']\n",
    "sp500_btest=sp500_btest.resample('W').last()\n",
    "sp500_ylds_btest=np.log(sp500_btest).diff()[1:]"
   ]
  },
  {
   "cell_type": "code",
   "execution_count": 23,
   "metadata": {},
   "outputs": [
    {
     "data": {
      "text/plain": [
       "314"
      ]
     },
     "execution_count": 23,
     "metadata": {},
     "output_type": "execute_result"
    }
   ],
   "source": [
    "len(sp500_btest)"
   ]
  },
  {
   "cell_type": "markdown",
   "metadata": {},
   "source": [
    "Ok, let's test parametric VaR first."
   ]
  },
  {
   "cell_type": "code",
   "execution_count": 24,
   "metadata": {},
   "outputs": [],
   "source": [
    "TestYield_btest=[]\n",
    "ParametricVaR_btest=[]\n",
    "TestFail=0\n",
    "for i in range(159,314):\n",
    "    BaseYields=sp500_ylds_btest[(i-159):(i-2)]\n",
    "    TestYield_btest.append(sp500_ylds_btest[i-1])\n",
    "    ParametricVaR_btest.append(np.std(BaseYields)*norm.ppf(0.05))\n",
    "    if TestYield_btest[-1]<ParametricVaR_btest[-1]:\n",
    "        TestFail+=1"
   ]
  },
  {
   "cell_type": "markdown",
   "metadata": {},
   "source": [
    "What we have done is a becktest: we calculated VaR for 3 years and compared the VaR with the actual yield that has been observed in the next week. We have:"
   ]
  },
  {
   "cell_type": "code",
   "execution_count": 25,
   "metadata": {},
   "outputs": [
    {
     "data": {
      "text/plain": [
       "155"
      ]
     },
     "execution_count": 25,
     "metadata": {},
     "output_type": "execute_result"
    }
   ],
   "source": [
    "len(TestYield_btest)"
   ]
  },
  {
   "cell_type": "markdown",
   "metadata": {},
   "source": [
    "samples, so, roughly speaking, we expect 155 x 0.05 = 7.75 failures."
   ]
  },
  {
   "cell_type": "code",
   "execution_count": 26,
   "metadata": {},
   "outputs": [
    {
     "data": {
      "text/plain": [
       "10"
      ]
     },
     "execution_count": 26,
     "metadata": {},
     "output_type": "execute_result"
    }
   ],
   "source": [
    "TestFail"
   ]
  },
  {
   "cell_type": "markdown",
   "metadata": {},
   "source": [
    "10 failures... is that good or not? The binomial distribution has an answer:\n",
    "$$\n",
    "\\textrm{Binom}(x \\leq 10;5\\%;155)=84.53\\%\n",
    "$$\n",
    "The p-value is 1-84.53%, about 15.5% so we cannot reject the hypothesis that parametric VaR is good. Let's have a look at the backtesting chart:"
   ]
  },
  {
   "cell_type": "code",
   "execution_count": 27,
   "metadata": {},
   "outputs": [
    {
     "data": {
      "text/plain": [
       "<matplotlib.legend.Legend at 0x29ae255cd88>"
      ]
     },
     "execution_count": 27,
     "metadata": {},
     "output_type": "execute_result"
    },
    {
     "data": {
      "image/png": "[encoded data removed]",
      "text/plain": [
       "<Figure size 432x288 with 1 Axes>"
      ]
     },
     "metadata": {
      "needs_background": "light"
     },
     "output_type": "display_data"
    }
   ],
   "source": [
    "plt.plot(TestYield_btest,label=\"yields\")\n",
    "plt.plot(ParametricVaR_btest,color=\"red\",lw=2,label=\"ParVaR\")\n",
    "plt.legend()"
   ]
  },
  {
   "cell_type": "markdown",
   "metadata": {},
   "source": [
    "Let's do the same thing with historical VaR..."
   ]
  },
  {
   "cell_type": "code",
   "execution_count": 28,
   "metadata": {},
   "outputs": [],
   "source": [
    "HSVaR_btest=[]\n",
    "TestFail=0\n",
    "for i in range(159,314):\n",
    "    BaseYields=sp500_ylds_btest[(i-159):(i-2)]\n",
    "    BaseYields=BaseYields-np.mean(BaseYields)\n",
    "    HSVaR_btest.append(np.percentile(BaseYields,5))\n",
    "    if (TestYield_btest[i-(313-154)]<HSVaR_btest[-1]):\n",
    "        TestFail+=1"
   ]
  },
  {
   "cell_type": "code",
   "execution_count": 29,
   "metadata": {},
   "outputs": [
    {
     "data": {
      "text/plain": [
       "8"
      ]
     },
     "execution_count": 29,
     "metadata": {},
     "output_type": "execute_result"
    }
   ],
   "source": [
    "TestFail"
   ]
  },
  {
   "cell_type": "markdown",
   "metadata": {},
   "source": [
    "In the end of the day, historical VaR not that bad ... Let's look at the chart:"
   ]
  },
  {
   "cell_type": "code",
   "execution_count": 30,
   "metadata": {},
   "outputs": [
    {
     "data": {
      "text/plain": [
       "<matplotlib.legend.Legend at 0x29ae272bfc8>"
      ]
     },
     "execution_count": 30,
     "metadata": {},
     "output_type": "execute_result"
    },
    {
     "data": {
      "image/png": "[encoded data removed]",
      "text/plain": [
       "<Figure size 432x288 with 1 Axes>"
      ]
     },
     "metadata": {
      "needs_background": "light"
     },
     "output_type": "display_data"
    }
   ],
   "source": [
    "plt.plot(TestYield_btest,label=\"yields\")\n",
    "plt.plot(ParametricVaR_btest,color=\"red\",lw=2,label=\"ParVaR\")\n",
    "plt.plot(HSVaR_btest,color=\"orange\",lw=2,label=\"HSVaR\")\n",
    "plt.legend()"
   ]
  },
  {
   "cell_type": "markdown",
   "metadata": {},
   "source": [
    "Cornish Fisher VaR will react more heavily. Let's look at it:"
   ]
  },
  {
   "cell_type": "code",
   "execution_count": 31,
   "metadata": {},
   "outputs": [],
   "source": [
    "CFVaR_btest=[]\n",
    "TestFail=0\n",
    "q=norm.ppf(0.05)\n",
    "for i in range(159,314):\n",
    "    BaseYields=sp500_ylds_btest[(i-159):(i-2)]\n",
    "    BaseYields=BaseYields-np.mean(BaseYields)\n",
    "    aux_skew=skew(BaseYields)\n",
    "    aux_kurt=kurtosis(sp500_ylds)\n",
    "    aux_vol=np.std(sp500_ylds)\n",
    "    z_CornishFisher=q+aux_skew*(q**2-1)/6+(q**3-3*q)*aux_kurt/24-(2*q**3-5*q)/36*aux_skew**2\n",
    "    CFVaR_btest.append(aux_vol*z_CornishFisher)\n",
    "    if (TestYield_btest[i-(313-154)]<CFVaR_btest[-1]):\n",
    "        TestFail+=1"
   ]
  },
  {
   "cell_type": "code",
   "execution_count": 32,
   "metadata": {},
   "outputs": [
    {
     "data": {
      "text/plain": [
       "4"
      ]
     },
     "execution_count": 32,
     "metadata": {},
     "output_type": "execute_result"
    }
   ],
   "source": [
    "TestFail"
   ]
  },
  {
   "cell_type": "markdown",
   "metadata": {},
   "source": [
    "Uh oh... This time the binomial test rings an alarm bell:\n",
    "$$\n",
    "\\textrm{Binom}(x \\leq 4;5\\%;155)=10.87\\%\n",
    "$$\n",
    "At 10% we nearly decide that CF VaR is overextimated! Let's look at the chart:"
   ]
  },
  {
   "cell_type": "code",
   "execution_count": 33,
   "metadata": {},
   "outputs": [
    {
     "data": {
      "text/plain": [
       "<matplotlib.legend.Legend at 0x29ae25e3548>"
      ]
     },
     "execution_count": 33,
     "metadata": {},
     "output_type": "execute_result"
    },
    {
     "data": {
      "image/png": "[encoded data removed]",
      "text/plain": [
       "<Figure size 432x288 with 1 Axes>"
      ]
     },
     "metadata": {
      "needs_background": "light"
     },
     "output_type": "display_data"
    }
   ],
   "source": [
    "plt.plot(TestYield_btest,label=\"yields\")\n",
    "plt.plot(ParametricVaR_btest,color=\"red\",lw=2,label=\"ParVaR\")\n",
    "plt.plot(HSVaR_btest,color=\"orange\",lw=2,label=\"HSVaR\")\n",
    "plt.plot(CFVaR_btest,color=\"brown\",lw=2,label=\"CFVaR\")\n",
    "plt.legend()"
   ]
  },
  {
   "cell_type": "markdown",
   "metadata": {},
   "source": [
    "CF VaR will react heavily to large returns, due to the 0 breakdown property of Kurtosis and skew."
   ]
  },
  {
   "cell_type": "markdown",
   "metadata": {},
   "source": [
    "# 2.Hedging!"
   ]
  },
  {
   "cell_type": "markdown",
   "metadata": {},
   "source": [
    "In this excercise we will try to hedge a long position in equity with an option. Lets put out some data:\n",
    "* option are call and put, with implied volatility 10% and risk free rate 1%, expiry 3 months\n",
    "* the minimun notional si 100 shares per option\n",
    "* strike prices will vary any 2.5 EUR\n",
    "* our position is 1500 shares, valued 15.5 eur each\n",
    "* we need a delta neutral position\n"
   ]
  },
  {
   "cell_type": "markdown",
   "metadata": {},
   "source": [
    "To solve the exercise, lets define a couple of functions:"
   ]
  },
  {
   "cell_type": "code",
   "execution_count": 34,
   "metadata": {},
   "outputs": [],
   "source": [
    "def Delta(OpType,Notional,S,K,r,T,sigma):\n",
    "    delta=0\n",
    "    if (OpType==\"Call\"):\n",
    "        if S>K:\n",
    "            delta=1\n",
    "        if T>0:\n",
    "            d1=(np.log(S/K)+(r+sigma*sigma/2)*T)/(sigma*T**0.5)\n",
    "            delta=norm.cdf(d1)\n",
    "    elif (OpType==\"Put\"):\n",
    "        if S<K:\n",
    "            delta=-1\n",
    "        if T>0:\n",
    "            d1=(np.log(S/K)+(r+sigma*sigma/2)*T)/(sigma*T**0.5)\n",
    "            delta=-norm.cdf(-d1)\n",
    "    return delta*Notional\n",
    "            \n",
    "def CallOptionPrice(Notional,S,K,r,T,sigma):\n",
    "    Price=0\n",
    "    if (S>K):\n",
    "        Price=S-K\n",
    "    if (T>0):\n",
    "        d1=(np.log(S/K)+(r+sigma*sigma/2)*T)/(sigma*T**0.5)\n",
    "        d2=d1-sigma*T**0.5\n",
    "        Price=S*norm.cdf(d1)-np.exp(-r*T)*K*norm.cdf(d2)\n",
    "    return Price*Notional\n",
    "\n",
    "def PutOptionPrice(Notional,S,K,r,T,sigma):\n",
    "    Price=0\n",
    "    if (S<K):\n",
    "        Price=K-S\n",
    "    if (T>0):\n",
    "        d1=(np.log(S/K)+(r+sigma*sigma/2)*T)/(sigma*T**0.5)\n",
    "        d2=d1-sigma*T**0.5\n",
    "        Price=-S*norm.cdf(-d1)+np.exp(-r*T)*K*norm.cdf(-d2)\n",
    "    return Price*Notional\n"
   ]
  },
  {
   "cell_type": "markdown",
   "metadata": {},
   "source": [
    "We will do the hedging with a short call spread: we sell a call in the money and buy a call out of money."
   ]
  },
  {
   "cell_type": "code",
   "execution_count": 35,
   "metadata": {},
   "outputs": [
    {
     "data": {
      "text/plain": [
       "0.2395299331922507"
      ]
     },
     "execution_count": 35,
     "metadata": {},
     "output_type": "execute_result"
    }
   ],
   "source": [
    "BoughtCall=CallOptionPrice(100,15.5,17.5,0.01,0.25,0.1)\n",
    "BoughtCall"
   ]
  },
  {
   "cell_type": "code",
   "execution_count": 36,
   "metadata": {},
   "outputs": [
    {
     "data": {
      "text/plain": [
       "64.51649337778082"
      ]
     },
     "execution_count": 36,
     "metadata": {},
     "output_type": "execute_result"
    }
   ],
   "source": [
    "SoldCall=CallOptionPrice(100,15.5,15,0.01,0.25,0.1)\n",
    "SoldCall"
   ]
  },
  {
   "cell_type": "markdown",
   "metadata": {},
   "source": [
    "For any couple of options we buy and sell we gain:"
   ]
  },
  {
   "cell_type": "code",
   "execution_count": 37,
   "metadata": {},
   "outputs": [
    {
     "data": {
      "text/plain": [
       "64.27696344458857"
      ]
     },
     "execution_count": 37,
     "metadata": {},
     "output_type": "execute_result"
    }
   ],
   "source": [
    "SpreadPrice=SoldCall-BoughtCall\n",
    "SpreadPrice"
   ]
  },
  {
   "cell_type": "markdown",
   "metadata": {},
   "source": [
    "euros, and the delta of our spread is"
   ]
  },
  {
   "cell_type": "code",
   "execution_count": 38,
   "metadata": {},
   "outputs": [
    {
     "data": {
      "text/plain": [
       "-75.82173171876354"
      ]
     },
     "execution_count": 38,
     "metadata": {},
     "output_type": "execute_result"
    }
   ],
   "source": [
    "SpreadDelta=Delta(\"Call\",100,15.5,17.5,0.01,0.25,0.1)-Delta(\"Call\",100,15.5,15,0.01,0.25,0.1)\n",
    "SpreadDelta"
   ]
  },
  {
   "cell_type": "markdown",
   "metadata": {},
   "source": [
    "The delta of 1500 shares is, obviously, 1500, so we need about 20 spreads to hedge the position."
   ]
  },
  {
   "cell_type": "code",
   "execution_count": 39,
   "metadata": {},
   "outputs": [
    {
     "data": {
      "text/plain": [
       "-19.783246385927587"
      ]
     },
     "execution_count": 39,
     "metadata": {},
     "output_type": "execute_result"
    }
   ],
   "source": [
    "1500/SpreadDelta"
   ]
  },
  {
   "cell_type": "markdown",
   "metadata": {},
   "source": [
    "Ok, let's do some charts. First, our position value:"
   ]
  },
  {
   "cell_type": "code",
   "execution_count": 40,
   "metadata": {},
   "outputs": [
    {
     "data": {
      "text/plain": [
       "Text(0, 0.5, 'Gain/Loss')"
      ]
     },
     "execution_count": 40,
     "metadata": {},
     "output_type": "execute_result"
    },
    {
     "data": {
      "image/png": "[encoded data removed]",
      "text/plain": [
       "<Figure size 432x288 with 1 Axes>"
      ]
     },
     "metadata": {
      "needs_background": "light"
     },
     "output_type": "display_data"
    }
   ],
   "source": [
    "S=np.linspace(10,20,200)\n",
    "P=1500*S-1500*15.5\n",
    "BoughtCalls=[0]*len(S)\n",
    "SoldCalls=[0]*len(S)\n",
    "Spreads=[0]*len(S)\n",
    "PortFolio=[0]*len(S)\n",
    "plt.plot(S,P,label=\"Position\",color=\"blue\")\n",
    "for i in range(len(S)):\n",
    "    BoughtCalls[i]=20*CallOptionPrice(100,S[i],17.5,0.01,0.25,0.1)\n",
    "    SoldCalls[i]=20*CallOptionPrice(100,S[i],15,0.01,0.25,0.1)\n",
    "    Spreads[i]=BoughtCalls[i]-SoldCalls[i]+20*SpreadPrice\n",
    "    PortFolio[i]=P[i]+Spreads[i]\n",
    "plt.plot(S,Spreads,label=\"Hedging\",color=\"orange\")\n",
    "plt.plot(S,PortFolio,label=\"Portfolio\",color=\"red\")\n",
    "plt.legend()\n",
    "plt.xlabel(\"Underlying price\")\n",
    "plt.ylabel(\"Gain/Loss\")"
   ]
  },
  {
   "cell_type": "markdown",
   "metadata": {},
   "source": [
    "We can evaluate the opportunity cost of the hedging strategy:\n",
    "$$\n",
    "\\textrm{OpportunityCost}=\\textrm{PortFolio}+\\textrm{Hedging}-\\textrm{PortFolio}=\\textrm{Hedging}\n",
    "$$\n",
    "So what? Let's look at some numbers:"
   ]
  },
  {
   "cell_type": "code",
   "execution_count": 41,
   "metadata": {},
   "outputs": [
    {
     "data": {
      "text/plain": [
       "[15.477386934673367, 34.10435909709577]"
      ]
     },
     "execution_count": 41,
     "metadata": {},
     "output_type": "execute_result"
    }
   ],
   "source": [
    "[S[109],Spreads[109]]"
   ]
  },
  {
   "cell_type": "code",
   "execution_count": 42,
   "metadata": {},
   "outputs": [
    {
     "data": {
      "text/plain": [
       "[15.527638190954775, -42.184353153960956]"
      ]
     },
     "execution_count": 42,
     "metadata": {},
     "output_type": "execute_result"
    }
   ],
   "source": [
    "[S[110],Spreads[110]]"
   ]
  },
  {
   "cell_type": "markdown",
   "metadata": {},
   "source": [
    "And make a couple of interesting observations:\n",
    "* When opportunity cost of hedging are negative we renounced to a gain, and we need that in exchange for risk reduction\n",
    "* Delta hedging is a \"local strategy\", the region in which the hedging is effective is \"small\"\n",
    "Well. Not that small. If we look at what coud happen in more than 1/1000 cases:"
   ]
  },
  {
   "cell_type": "code",
   "execution_count": 43,
   "metadata": {},
   "outputs": [],
   "source": [
    "Sweek=np.linspace(15.5*(1+norm.ppf(0.001)*0.1*(1/52)**0.5),15.5*(1+norm.ppf(0.999)*0.1*(1/52)**0.5),200)"
   ]
  },
  {
   "cell_type": "markdown",
   "metadata": {},
   "source": [
    "Where 1/1000 cases means that the price of the underlying S is in the range:\n",
    "$$\n",
    "S \\in ( S_0 \\times (1+ \\Phi^{-1}(0.1\\%) \\sqrt{T}) , S_0 \\times (1+\\Phi^{-1}(0.1\\%) \\sqrt{T}) )\n",
    "$$\n",
    "and T is one week:"
   ]
  },
  {
   "cell_type": "code",
   "execution_count": 44,
   "metadata": {},
   "outputs": [
    {
     "data": {
      "text/plain": [
       "Text(0, 0.5, 'Gain/Loss')"
      ]
     },
     "execution_count": 44,
     "metadata": {},
     "output_type": "execute_result"
    },
    {
     "data": {
      "image/png": "[encoded data removed]",
      "text/plain": [
       "<Figure size 432x288 with 1 Axes>"
      ]
     },
     "metadata": {
      "needs_background": "light"
     },
     "output_type": "display_data"
    }
   ],
   "source": [
    "P=1500*Sweek-1500*15.5\n",
    "BoughtCalls=[0]*len(Sweek)\n",
    "SoldCalls=[0]*len(Sweek)\n",
    "Spreads=[0]*len(Sweek)\n",
    "PortFolio=[0]*len(Sweek)\n",
    "plt.plot(Sweek,P,label=\"Position\",color=\"blue\")\n",
    "for i in range(len(Sweek)):\n",
    "    BoughtCalls[i]=20*CallOptionPrice(100,Sweek[i],17.5,0.01,0.25-1/52,0.1)\n",
    "    SoldCalls[i]=20*CallOptionPrice(100,Sweek[i],15,0.01,0.25-1/52,0.1)\n",
    "    Spreads[i]=BoughtCalls[i]-SoldCalls[i]+20*SpreadPrice\n",
    "    PortFolio[i]=P[i]+Spreads[i]\n",
    "plt.plot(Sweek,Spreads,label=\"Hedging\",color=\"orange\")\n",
    "plt.plot(Sweek,PortFolio,label=\"Portfolio\",color=\"red\")\n",
    "plt.legend()\n",
    "plt.xlabel(\"Underlying price\")\n",
    "plt.ylabel(\"Gain/Loss\")"
   ]
  },
  {
   "cell_type": "markdown",
   "metadata": {},
   "source": [
    "We see that on a such small scale delta hedging is successful in reducing the volatility of the equities. It is also evident the similarity with the duration hedging in the interest rate case we looked at in the lesson."
   ]
  },
  {
   "cell_type": "code",
   "execution_count": null,
   "metadata": {},
   "outputs": [],
   "source": []
  }
 ],
 "metadata": {
  "kernelspec": {
   "display_name": "Python 3",
   "language": "python",
   "name": "python3"
  },
  "language_info": {
   "codemirror_mode": {
    "name": "ipython",
    "version": 3
   },
   "file_extension": ".py",
   "mimetype": "text/x-python",
   "name": "python",
   "nbconvert_exporter": "python",
   "pygments_lexer": "ipython3",
   "version": "3.7.5"
  }
 },
 "nbformat": 4,
 "nbformat_minor": 4
}
