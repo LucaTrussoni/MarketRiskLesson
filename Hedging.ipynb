{
 "cells": [
  {
   "cell_type": "markdown",
   "metadata": {},
   "source": [
    "# Hedging\n",
    "We will go through ad hedging exercise. Our objective is to define a portfolio to hedge a position of an option on an index. The index has a value of 10000, and we have written a\n",
    "digital option on it. We will have to pay 10.000.000 euros if the index goes over 10.100 in one month. The volatility of the index is 20%. The risk free rate is 2.5%.\n",
    "The contracts we can use are futures with leverage 100 and calls and puts, european, with the same expiry of out option and strikes any 250 points."
   ]
  },
  {
   "cell_type": "markdown",
   "metadata": {},
   "source": [
    "Lets start loading and defining things"
   ]
  },
  {
   "cell_type": "code",
   "execution_count": 1,
   "metadata": {},
   "outputs": [],
   "source": [
    "import numpy as np\n",
    "from scipy.stats import norm\n",
    "from matplotlib import pyplot as plt"
   ]
  },
  {
   "cell_type": "code",
   "execution_count": 2,
   "metadata": {},
   "outputs": [],
   "source": [
    "def DigitalOptionPrice(Notional,S,K,r,T,sigma):\n",
    "    Price=0\n",
    "    if (S>K):\n",
    "        Price=1\n",
    "    if (T>0):\n",
    "        d1=(np.log(S/K)+(r+sigma*sigma/2)*T)/(sigma*T**0.5)\n",
    "        d2=d1-sigma*T**0.5\n",
    "        Price=np.exp(-r*T)*norm.cdf(d2)\n",
    "    return Price*Notional\n",
    "\n",
    "def Greeks(OptionPrice,Notional,S,K,r,T,sigma):\n",
    "    P0=OptionPrice(Notional,S,K,r,T,sigma)\n",
    "    Pu=OptionPrice(Notional,S+1,K,r,T,sigma)\n",
    "    Pd=OptionPrice(Notional,S-1,K,r,T,sigma)\n",
    "    delta=(Pu-Pd)/2\n",
    "    gamma=Pu-2*P0+Pd\n",
    "    return np.array([P0,delta,gamma])\n",
    "\n",
    "def CallOptionPrice(Notional,S,K,r,T,sigma):\n",
    "    Price=0\n",
    "    if (S>K):\n",
    "        Price=S-K\n",
    "    if (T>0):\n",
    "        d1=(np.log(S/K)+(r+sigma*sigma/2)*T)/(sigma*T**0.5)\n",
    "        d2=d1-sigma*T**0.5\n",
    "        Price=S*norm.cdf(d1)-np.exp(-r*T)*K*norm.cdf(d2)\n",
    "    return Price*Notional\n",
    "\n",
    "def PutOptionPrice(Notional,S,K,r,T,sigma):\n",
    "    Price=0\n",
    "    if (S<K):\n",
    "        Price=K-S\n",
    "    if (T>0):\n",
    "        d1=(np.log(S/K)+(r+sigma*sigma/2)*T)/(sigma*T**0.5)\n",
    "        d2=d1-sigma*T**0.5\n",
    "        Price=-S*norm.cdf(-d1)+np.exp(-r*T)*K*norm.cdf(-d2)\n",
    "    return Price*Notional\n",
    "\n",
    "def FuturePrice(Contracts,Leverage,S,K):\n",
    "    return (S-K)*Leverage*Contracts\n",
    "\n",
    "def FutureGreeks(Contracts,Leverage,S,K):\n",
    "    return np.array([(S-K)*Leverage*Contracts,Leverage*Contracts,0])"
   ]
  },
  {
   "cell_type": "markdown",
   "metadata": {},
   "source": [
    "Lets look at the final payoff of our option..."
   ]
  },
  {
   "cell_type": "code",
   "execution_count": 3,
   "metadata": {},
   "outputs": [
    {
     "data": {
      "image/png": "[encoded data removed]",
      "text/plain": [
       "<Figure size 432x288 with 1 Axes>"
      ]
     },
     "metadata": {
      "needs_background": "light"
     },
     "output_type": "display_data"
    }
   ],
   "source": [
    "Index=[]\n",
    "Ptf=[]\n",
    "for i in range(500):\n",
    "    CurrIndex=9750+i\n",
    "    CurrPtf=DigitalOptionPrice(1000000,CurrIndex,10100,0.025,0,0.2)\n",
    "    Index.append(CurrIndex)\n",
    "    Ptf.append(CurrPtf)\n",
    "\n",
    "plt.plot(Index,Ptf)\n",
    "plt.xlabel('Index')\n",
    "plt.ylabel('Portfolio')\n",
    "plt.show()"
   ]
  },
  {
   "cell_type": "markdown",
   "metadata": {},
   "source": [
    "But nowadays we are a month before, the reaction of our portfolio to index change is different...\n",
    "First of all. What's the price of our option?"
   ]
  },
  {
   "cell_type": "code",
   "execution_count": 4,
   "metadata": {},
   "outputs": [
    {
     "data": {
      "text/plain": [
       "4335161.764662938"
      ]
     },
     "execution_count": 4,
     "metadata": {},
     "output_type": "execute_result"
    }
   ],
   "source": [
    "PDigital=DigitalOptionPrice(10000000,10000,10100,0.025,0.08333,0.2)\n",
    "PDigital"
   ]
  },
  {
   "cell_type": "markdown",
   "metadata": {},
   "source": [
    "What happens if the underlying price change?"
   ]
  },
  {
   "cell_type": "code",
   "execution_count": 5,
   "metadata": {},
   "outputs": [
    {
     "data": {
      "image/png": "[encoded data removed]",
      "text/plain": [
       "<Figure size 432x288 with 1 Axes>"
      ]
     },
     "metadata": {
      "needs_background": "light"
     },
     "output_type": "display_data"
    }
   ],
   "source": [
    "Index=[]\n",
    "Ptf=[]\n",
    "for i in range(500):\n",
    "    CurrIndex=9750+i\n",
    "    CurrPtf=DigitalOptionPrice(10000000,CurrIndex,10100,0.025,0.08333,0.2)-PDigital\n",
    "    Index.append(CurrIndex)\n",
    "    Ptf.append(CurrPtf)\n",
    "\n",
    "plt.plot(Index,Ptf)\n",
    "plt.xlabel('Index')\n",
    "plt.ylabel('Portfolio')\n",
    "plt.show()"
   ]
  },
  {
   "cell_type": "markdown",
   "metadata": {},
   "source": [
    "Ok. Let's look to delta and gamma."
   ]
  },
  {
   "cell_type": "code",
   "execution_count": 6,
   "metadata": {},
   "outputs": [
    {
     "data": {
      "text/plain": [
       "array([4.33516176e+06, 6.80225892e+03, 1.26536909e+00])"
      ]
     },
     "execution_count": 6,
     "metadata": {},
     "output_type": "execute_result"
    }
   ],
   "source": [
    "Greeks(DigitalOptionPrice,10000000,10000,10100,0.025,0.08333,0.2)"
   ]
  },
  {
   "cell_type": "markdown",
   "metadata": {},
   "source": [
    "A first simple way to (almost) cancel delta is to use futures. We need 68 contracts short."
   ]
  },
  {
   "cell_type": "code",
   "execution_count": 7,
   "metadata": {},
   "outputs": [
    {
     "data": {
      "text/plain": [
       "array([    0, -6800,     0])"
      ]
     },
     "execution_count": 7,
     "metadata": {},
     "output_type": "execute_result"
    }
   ],
   "source": [
    "FutureGreeks(-68,100,10000,10000)"
   ]
  },
  {
   "cell_type": "markdown",
   "metadata": {},
   "source": [
    "Let's see what happens (mind the fact that Future price a time 0 is 0)..."
   ]
  },
  {
   "cell_type": "code",
   "execution_count": 8,
   "metadata": {},
   "outputs": [
    {
     "data": {
      "image/png": "[encoded data removed]",
      "text/plain": [
       "<Figure size 432x288 with 1 Axes>"
      ]
     },
     "metadata": {
      "needs_background": "light"
     },
     "output_type": "display_data"
    }
   ],
   "source": [
    "Index=[]\n",
    "Ptf=[]\n",
    "for i in range(500):\n",
    "    CurrIndex=9750+i\n",
    "    CurrPtf=DigitalOptionPrice(10000000,CurrIndex,10100,0.025,0.08333,0.2)+FuturePrice(-68,100,CurrIndex,10000)-PDigital\n",
    "    Index.append(CurrIndex)\n",
    "    Ptf.append(CurrPtf)\n",
    "\n",
    "plt.plot(Index,Ptf)\n",
    "plt.xlabel('Index')\n",
    "plt.ylabel('Portfolio')\n",
    "plt.show()"
   ]
  },
  {
   "cell_type": "markdown",
   "metadata": {},
   "source": [
    "Well, is a fairly good result, and we have low delta. But we want zero delta...\n",
    "Let's get near the current market condition."
   ]
  },
  {
   "cell_type": "code",
   "execution_count": 9,
   "metadata": {},
   "outputs": [
    {
     "data": {
      "image/png": "[encoded data removed]",
      "text/plain": [
       "<Figure size 432x288 with 1 Axes>"
      ]
     },
     "metadata": {
      "needs_background": "light"
     },
     "output_type": "display_data"
    }
   ],
   "source": [
    "Index=[]\n",
    "Ptf=[]\n",
    "for i in range(200):\n",
    "    CurrIndex=9900+i\n",
    "    CurrPtf=DigitalOptionPrice(10000000,CurrIndex,10100,0.025,0.08333,0.2)+FuturePrice(-68,100,CurrIndex,10000)-PDigital\n",
    "    Index.append(CurrIndex)\n",
    "    Ptf.append(CurrPtf)\n",
    "\n",
    "plt.plot(Index,Ptf)\n",
    "plt.xlabel('Index')\n",
    "plt.ylabel('Portfolio')\n",
    "plt.show()"
   ]
  },
  {
   "cell_type": "code",
   "execution_count": 10,
   "metadata": {},
   "outputs": [
    {
     "data": {
      "text/plain": [
       "array([3.66196176e+06, 2.25892051e+00, 1.26536909e+00])"
      ]
     },
     "execution_count": 10,
     "metadata": {},
     "output_type": "execute_result"
    }
   ],
   "source": [
    "Greeks(DigitalOptionPrice,10000000,10000,10100,0.025,0.08333,0.2)+FutureGreeks(-68,100,CurrIndex,10000)"
   ]
  },
  {
   "cell_type": "markdown",
   "metadata": {},
   "source": [
    "We will sell some out-of-money options to cancel small greeks."
   ]
  },
  {
   "cell_type": "code",
   "execution_count": 11,
   "metadata": {},
   "outputs": [
    {
     "data": {
      "text/plain": [
       "array([6.99024958e+01, 2.17655306e-01, 5.09707028e-04])"
      ]
     },
     "execution_count": 11,
     "metadata": {},
     "output_type": "execute_result"
    }
   ],
   "source": [
    "Greeks(CallOptionPrice,1,10000,10500,0.025,0.08333,0.2)"
   ]
  },
  {
   "cell_type": "code",
   "execution_count": 12,
   "metadata": {},
   "outputs": [
    {
     "data": {
      "text/plain": [
       "array([ 5.39487850e+01, -1.70195293e-01,  4.38632779e-04])"
      ]
     },
     "execution_count": 12,
     "metadata": {},
     "output_type": "execute_result"
    }
   ],
   "source": [
    "Greeks(PutOptionPrice,1,10000,9500,0.025,0.08333,0.2)"
   ]
  },
  {
   "cell_type": "markdown",
   "metadata": {},
   "source": [
    "We now have a linear problem..."
   ]
  },
  {
   "cell_type": "code",
   "execution_count": 13,
   "metadata": {},
   "outputs": [
    {
     "data": {
      "text/plain": [
       "matrix([[ 2.17655, -1.70195],\n",
       "        [ 5.09707,  4.38633]])"
      ]
     },
     "execution_count": 13,
     "metadata": {},
     "output_type": "execute_result"
    }
   ],
   "source": [
    "M=np.matrix([[2.17655,-1.70195],[5.09707,4.38633]])\n",
    "M"
   ]
  },
  {
   "cell_type": "code",
   "execution_count": 14,
   "metadata": {},
   "outputs": [],
   "source": [
    "B=np.matrix([[22.589],[12654]])"
   ]
  },
  {
   "cell_type": "code",
   "execution_count": 15,
   "metadata": {},
   "outputs": [
    {
     "data": {
      "text/plain": [
       "matrix([[1187.33007384],\n",
       "        [1505.15248522]])"
      ]
     },
     "execution_count": 15,
     "metadata": {},
     "output_type": "execute_result"
    }
   ],
   "source": [
    "np.linalg.solve(M,B)"
   ]
  },
  {
   "cell_type": "markdown",
   "metadata": {},
   "source": [
    "This time we will get money the hedging!"
   ]
  },
  {
   "cell_type": "code",
   "execution_count": 16,
   "metadata": {},
   "outputs": [
    {
     "data": {
      "text/plain": [
       "-164167.1838738827"
      ]
     },
     "execution_count": 16,
     "metadata": {},
     "output_type": "execute_result"
    }
   ],
   "source": [
    "HdgPrice=CallOptionPrice(-1187,10000,10500,0.025,0.08333,0.2)+PutOptionPrice(-1505,10000,9500,0.025,0.08333,0.2)\n",
    "HdgPrice"
   ]
  },
  {
   "cell_type": "markdown",
   "metadata": {},
   "source": [
    "Let's look at what happens near the market point"
   ]
  },
  {
   "cell_type": "code",
   "execution_count": 17,
   "metadata": {},
   "outputs": [
    {
     "data": {
      "image/png": "[encoded data removed]",
      "text/plain": [
       "<Figure size 432x288 with 1 Axes>"
      ]
     },
     "metadata": {
      "needs_background": "light"
     },
     "output_type": "display_data"
    }
   ],
   "source": [
    "Index=[]\n",
    "Ptf=[]\n",
    "for i in range(200):\n",
    "    CurrIndex=9900+i\n",
    "    CurrPtf=DigitalOptionPrice(10000000,CurrIndex,10100,0.025,0.08333,0.2)+FuturePrice(-68,100,CurrIndex,10000)-PDigital+ \\\n",
    "    CallOptionPrice(-1187,CurrIndex,10500,0.025,0.08333,0.2)+PutOptionPrice(-1505,CurrIndex,9500,0.025,0.08333,0.2)-HdgPrice\n",
    "    Index.append(CurrIndex)\n",
    "    Ptf.append(CurrPtf)\n",
    "\n",
    "plt.plot(Index,Ptf)\n",
    "plt.xlabel('Index')\n",
    "plt.ylabel('Portfolio')\n",
    "plt.show()"
   ]
  },
  {
   "cell_type": "markdown",
   "metadata": {},
   "source": [
    "We earned 164k eur and our greeks are canceled:"
   ]
  },
  {
   "cell_type": "code",
   "execution_count": 18,
   "metadata": {},
   "outputs": [
    {
     "data": {
      "text/plain": [
       "array([4.17099458e+06, 4.59887162e-02, 2.04517244e-04])"
      ]
     },
     "execution_count": 18,
     "metadata": {},
     "output_type": "execute_result"
    }
   ],
   "source": [
    "Greeks(DigitalOptionPrice,10000000,10000,10100,0.025,0.08333,0.2)+FutureGreeks(-68,100,10000,10000)+ \\\n",
    "Greeks(CallOptionPrice,-1187,10000,10500,0.025,0.08333,0.2)+Greeks(PutOptionPrice,-1505,10000,9500,0.025,0.08333,0.2)"
   ]
  },
  {
   "cell_type": "markdown",
   "metadata": {},
   "source": [
    "Well... there is a problem... let's to the hedging payoff at a larger scale:"
   ]
  },
  {
   "cell_type": "code",
   "execution_count": 19,
   "metadata": {},
   "outputs": [
    {
     "data": {
      "image/png": "[encoded data removed]",
      "text/plain": [
       "<Figure size 432x288 with 1 Axes>"
      ]
     },
     "metadata": {
      "needs_background": "light"
     },
     "output_type": "display_data"
    }
   ],
   "source": [
    "Index=[]\n",
    "Ptf=[]\n",
    "for i in range(2000):\n",
    "    CurrIndex=9000+i\n",
    "    CurrPtf=FuturePrice(-68,100,CurrIndex,10000)+CallOptionPrice(-1182,CurrIndex,10500,0.025,0.00,0.2)+PutOptionPrice(-1511,CurrIndex,9500,0.025,0.00,0.2)-HdgPrice\n",
    "    Index.append(CurrIndex)\n",
    "    Ptf.append(CurrPtf)\n",
    "\n",
    "plt.plot(Index,Ptf)\n",
    "plt.xlabel('Index')\n",
    "plt.ylabel('Portfolio')\n",
    "plt.show()"
   ]
  },
  {
   "cell_type": "markdown",
   "metadata": {},
   "source": [
    "If the underlying price rises too much we could have a big problem, while before hedging we would have been happy... What do you think?"
   ]
  },
  {
   "cell_type": "code",
   "execution_count": null,
   "metadata": {},
   "outputs": [],
   "source": []
  }
 ],
 "metadata": {
  "kernelspec": {
   "display_name": "Python 3",
   "language": "python",
   "name": "python3"
  },
  "language_info": {
   "codemirror_mode": {
    "name": "ipython",
    "version": 3
   },
   "file_extension": ".py",
   "mimetype": "text/x-python",
   "name": "python",
   "nbconvert_exporter": "python",
   "pygments_lexer": "ipython3",
   "version": "3.7.5"
  }
 },
 "nbformat": 4,
 "nbformat_minor": 4
}
