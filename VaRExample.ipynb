{
 "cells": [
  {
   "cell_type": "markdown",
   "metadata": {},
   "source": [
    "# VaR Example calculation\n",
    "Let's start with the same portfolio of the Markowitz exercise:"
   ]
  },
  {
   "cell_type": "code",
   "execution_count": 1,
   "metadata": {},
   "outputs": [],
   "source": [
    "from pandas_datareader import data\n",
    "import pandas as pd\n",
    "import numpy as np\n",
    "import matplotlib.pyplot as plt\n",
    "from scipy.stats import norm"
   ]
  },
  {
   "cell_type": "markdown",
   "metadata": {},
   "source": [
    "## Time series download\n",
    "We will download the time series of three ETFs from yahoo finance"
   ]
  },
  {
   "cell_type": "code",
   "execution_count": 2,
   "metadata": {},
   "outputs": [],
   "source": [
    "eustoxx600 = data.DataReader(\"EXSA.MI\", \n",
    "                       start='2018-11-15', \n",
    "                       end='2019-11-15', \n",
    "                       data_source='yahoo')['Adj Close']"
   ]
  },
  {
   "cell_type": "code",
   "execution_count": 3,
   "metadata": {},
   "outputs": [],
   "source": [
    "sp500 = data.DataReader(\"XSPX.MI\", \n",
    "                       start='2018-11-15', \n",
    "                       end='2019-11-15', \n",
    "                       data_source='yahoo')['Adj Close']"
   ]
  },
  {
   "cell_type": "code",
   "execution_count": 4,
   "metadata": {},
   "outputs": [],
   "source": [
    "emerging = data.DataReader(\"EMKT.MI\", \n",
    "                       start='2018-11-15', \n",
    "                       end='2019-11-15', \n",
    "                       data_source='yahoo')['Adj Close']"
   ]
  },
  {
   "cell_type": "markdown",
   "metadata": {},
   "source": [
    "## Weekly data\n",
    "Let us resample our database at weekly time scale (like we did before)"
   ]
  },
  {
   "cell_type": "code",
   "execution_count": 5,
   "metadata": {},
   "outputs": [],
   "source": [
    "wk_euro=eustoxx600.resample('W').last()\n",
    "wk_us=sp500.resample('W').last()\n",
    "wk_emg=emerging.resample('W').last()"
   ]
  },
  {
   "cell_type": "markdown",
   "metadata": {},
   "source": [
    "We have now weekly data. Let us calculate parametric VaR"
   ]
  },
  {
   "cell_type": "code",
   "execution_count": 6,
   "metadata": {},
   "outputs": [],
   "source": [
    "ptf=pd.DataFrame({'eu': np.log(wk_euro).diff(), 'us': np.log(wk_us).diff(), 'emg' : np.log(wk_emg).diff()})"
   ]
  },
  {
   "cell_type": "markdown",
   "metadata": {},
   "source": [
    "## Parametric VaR\n",
    "Let's look to Parametric VaR in a yearly time horizon, but with different data: a weekly or daily time series."
   ]
  },
  {
   "cell_type": "code",
   "execution_count": 7,
   "metadata": {},
   "outputs": [],
   "source": [
    "CovMatrixDF=ptf.cov()"
   ]
  },
  {
   "cell_type": "code",
   "execution_count": 8,
   "metadata": {},
   "outputs": [],
   "source": [
    "CovMatrix=52*CovMatrixDF.values"
   ]
  },
  {
   "cell_type": "code",
   "execution_count": 9,
   "metadata": {},
   "outputs": [
    {
     "data": {
      "text/plain": [
       "array([[0.0138104 , 0.01557703, 0.01340294],\n",
       "       [0.01557703, 0.02316381, 0.01709364],\n",
       "       [0.01340294, 0.01709364, 0.02319908]])"
      ]
     },
     "execution_count": 9,
     "metadata": {},
     "output_type": "execute_result"
    }
   ],
   "source": [
    "CovMatrix"
   ]
  },
  {
   "cell_type": "markdown",
   "metadata": {},
   "source": [
    "Now suppose we have the following portfolio weights:"
   ]
  },
  {
   "cell_type": "code",
   "execution_count": 10,
   "metadata": {},
   "outputs": [],
   "source": [
    "wgt=[0.5,0.3,0.2]"
   ]
  },
  {
   "cell_type": "markdown",
   "metadata": {},
   "source": [
    "Now we have everything to calculate VaR. Usually is not a safe nor goot idea to draw average future returns from time series, so we will assume 0 central return for the rest of the exercise."
   ]
  },
  {
   "cell_type": "code",
   "execution_count": 11,
   "metadata": {},
   "outputs": [
    {
     "data": {
      "text/plain": [
       "-0.20721394843296131"
      ]
     },
     "execution_count": 11,
     "metadata": {},
     "output_type": "execute_result"
    }
   ],
   "source": [
    "-norm.ppf(0.95)*np.dot(wgt,np.dot(wgt,CovMatrix))**0.5"
   ]
  },
  {
   "cell_type": "markdown",
   "metadata": {},
   "source": [
    "So, if we consider that our central return is 0 (common assumption when you reason with parametric VaR) our **parametric VaR at 95% with 1 year time horizon** is about **20.7%**\n",
    "Let's look at what happens if we look at a different time scale..."
   ]
  },
  {
   "cell_type": "code",
   "execution_count": 12,
   "metadata": {},
   "outputs": [],
   "source": [
    "ptf2=pd.DataFrame({'eu': np.log(eustoxx600).diff(), 'us': np.log(sp500).diff(), 'emg' : np.log(emerging).diff()})"
   ]
  },
  {
   "cell_type": "code",
   "execution_count": 13,
   "metadata": {},
   "outputs": [],
   "source": [
    "CovMatrix2=250*ptf2.cov().values"
   ]
  },
  {
   "cell_type": "code",
   "execution_count": 14,
   "metadata": {},
   "outputs": [
    {
     "data": {
      "text/plain": [
       "-0.22557592258277107"
      ]
     },
     "execution_count": 14,
     "metadata": {},
     "output_type": "execute_result"
    }
   ],
   "source": [
    "-norm.ppf(0.95)*np.dot(wgt,np.dot(wgt,CovMatrix2))**0.5"
   ]
  },
  {
   "cell_type": "markdown",
   "metadata": {},
   "source": [
    "Using a **daily base** instead of a weekly base we have a **parametric VaR of 22.6%**: notice that our VaR figure changed of 10%! Let's look at historical VaR:"
   ]
  },
  {
   "cell_type": "code",
   "execution_count": 15,
   "metadata": {},
   "outputs": [],
   "source": [
    "ptf2_returns=np.dot(wgt,ptf2.values.transpose()).transpose()"
   ]
  },
  {
   "cell_type": "code",
   "execution_count": 16,
   "metadata": {},
   "outputs": [
    {
     "data": {
      "text/plain": [
       "array([            nan, -5.03366366e-04, -9.14922780e-03, -1.31600706e-02,\n",
       "        1.12982746e-02, -9.96767390e-03,  5.99942034e-03,  1.07122464e-02,\n",
       "        2.12666301e-03,  3.69282188e-03,  4.67206748e-03, -6.05176210e-04,\n",
       "        1.43523095e-02, -5.89527924e-03, -1.47777888e-02, -3.54495943e-02,\n",
       "        1.09425166e-02, -2.19676465e-02,  2.08292310e-02,  1.21997049e-02,\n",
       "       -3.48822835e-03, -6.99755650e-03, -1.25742092e-02, -1.10484283e-02,\n",
       "        2.36460311e-03, -1.99642453e-02, -3.79703426e-04, -1.67756265e-02,\n",
       "        1.77135051e-02,  6.26724634e-03, -1.35404589e-02,  2.44739159e-02,\n",
       "        7.47306239e-04,  7.90136776e-03,  7.03994406e-03,  8.50915144e-04,\n",
       "        3.63705800e-03, -5.38884133e-03,  1.03261634e-02,  6.32919490e-03,\n",
       "        1.18619620e-03,  1.85052102e-02, -3.61702105e-03, -4.99645435e-03,\n",
       "       -3.04019522e-03,  5.96830205e-03,  6.12988542e-03, -1.18952322e-02,\n",
       "        4.74581210e-03,  5.76599356e-03,  8.24373090e-03,  9.11782995e-04,\n",
       "        2.26554400e-03,  1.23920909e-02,  9.25382825e-04, -1.38903834e-02,\n",
       "       -3.70475023e-03,  9.71196933e-03,  6.10261462e-03,  3.82155092e-03,\n",
       "       -3.08313162e-03,  1.09245282e-02,  8.63067291e-04, -1.75495343e-03,\n",
       "        5.55832079e-03, -2.95028205e-03,  6.75124567e-03,  4.93128717e-03,\n",
       "       -7.28450589e-04, -5.98715493e-03, -8.45384480e-04,  2.31508432e-03,\n",
       "        3.82078278e-03,  4.53235276e-03, -2.81320508e-03, -5.07985226e-03,\n",
       "       -8.01957683e-03,  1.16459622e-02,  1.12841524e-03,  3.40068912e-03,\n",
       "        3.44887772e-03,  5.59895419e-03,  1.95962502e-03,  6.13422649e-03,\n",
       "       -9.41047451e-03,  2.74894213e-03, -1.13286761e-02, -3.27665234e-03,\n",
       "        6.63546384e-03, -1.21425268e-03,  1.09173688e-03,  8.88126445e-03,\n",
       "        1.26502784e-02,  3.75987970e-03,  6.46093029e-03, -1.07930471e-03,\n",
       "        4.75800997e-03, -4.73006094e-03, -2.01144182e-03,  2.31786213e-03,\n",
       "       -8.36312884e-04,  1.26933657e-03,  2.46705809e-04,  5.02565064e-03,\n",
       "       -8.09375039e-04,  2.92436252e-03,  5.20102439e-03, -9.40222074e-04,\n",
       "       -4.10475143e-04,  1.83900468e-03,  1.78657727e-03, -3.34390223e-03,\n",
       "       -4.87291496e-03,  7.46039579e-03, -1.13713827e-02, -1.16725713e-02,\n",
       "        8.51327089e-04, -2.20353547e-02,  3.44169226e-03, -1.25439037e-02,\n",
       "        1.18845824e-02,  4.07510134e-03,  1.22429271e-02, -5.10029095e-03,\n",
       "       -1.15787594e-02,  7.41947401e-03,  2.77823496e-04, -1.44096819e-02,\n",
       "        1.42889296e-03,  3.34460472e-03, -1.08402732e-03, -1.05264804e-02,\n",
       "        6.51664760e-03, -6.16058574e-03, -3.48780063e-04,  3.95606215e-03,\n",
       "        3.54823115e-03,  1.62007296e-04,  9.10092995e-03,  7.87928371e-03,\n",
       "        3.99284634e-03, -4.57277220e-03,  3.24320988e-03, -1.12483034e-03,\n",
       "       -5.42180492e-03,  1.72138226e-02, -1.39973567e-03,  6.90233363e-03,\n",
       "       -4.22475643e-03, -4.65770233e-03, -2.10069578e-03, -1.91699401e-03,\n",
       "        9.48821488e-04,  4.41245172e-03,  1.24971012e-02,  2.08077904e-03,\n",
       "        6.43109970e-03,  3.03002818e-03, -5.22337410e-03, -1.60287770e-03,\n",
       "       -3.12849965e-03,  4.20532547e-04,  1.99466692e-05,  5.75985690e-04,\n",
       "        3.61825721e-03,  3.24309655e-03, -4.85139134e-03, -2.81376101e-03,\n",
       "        3.66374867e-03, -1.96443026e-03,  9.67256778e-03,  2.22567808e-03,\n",
       "       -4.59962236e-03,             nan, -5.95200519e-04, -1.04428284e-02,\n",
       "        8.11127847e-04, -5.33820635e-02, -3.72153055e-03, -1.56192745e-04,\n",
       "        1.86608721e-02, -7.29289077e-03, -3.73598999e-03,  9.60330325e-03,\n",
       "       -1.80016393e-02,  1.34273190e-02,  1.15087105e-02, -3.78844276e-03,\n",
       "        7.26038650e-03, -1.57496639e-02, -2.80198538e-04,  4.64381832e-03,\n",
       "        1.48193845e-03,  1.11174818e-02,  6.54838789e-03,  3.43438232e-03,\n",
       "       -3.19719026e-03,  8.73136705e-03,  9.78770685e-03,  2.83215713e-03,\n",
       "       -6.96095753e-04, -2.52870523e-03,  1.14230188e-02,  2.85021490e-03,\n",
       "        1.98115295e-03, -6.55919319e-03, -4.95568264e-03, -2.45796114e-04,\n",
       "        5.89111019e-03,  2.60505210e-03, -6.11159111e-03, -1.77968977e-03,\n",
       "       -3.81585546e-03,  4.14586122e-03,  3.86469870e-03,  2.18224767e-03,\n",
       "       -1.09323827e-02, -2.41223929e-02,  4.98938284e-04,  8.40904090e-03,\n",
       "        5.02048867e-03, -1.00117391e-02,  2.34002710e-03,  9.22673730e-03,\n",
       "        1.68131856e-02, -4.54397159e-03,  8.99493254e-03, -1.44938057e-03,\n",
       "       -9.06573647e-04, -4.29537755e-03,  4.17331359e-03,  2.75553751e-03,\n",
       "       -4.71706792e-04,  5.85191731e-03,  3.42089319e-03,  4.35346590e-03,\n",
       "       -2.63697224e-03, -1.33635481e-03, -3.74300716e-03,  6.74676943e-03,\n",
       "        1.11250421e-02,  4.81522994e-03,  8.05994031e-04,  5.79585030e-03,\n",
       "       -3.04492628e-03, -2.27280345e-03,  4.99797099e-03, -4.42212604e-03,\n",
       "       -1.97956309e-03,  4.63176233e-03])"
      ]
     },
     "execution_count": 16,
     "metadata": {},
     "output_type": "execute_result"
    }
   ],
   "source": [
    "ptf2_returns"
   ]
  },
  {
   "cell_type": "markdown",
   "metadata": {},
   "source": [
    "We have **nans**!!! Let us clean the time series..."
   ]
  },
  {
   "cell_type": "code",
   "execution_count": 17,
   "metadata": {},
   "outputs": [],
   "source": [
    "ptf2_returns=ptf2_returns[np.logical_not(np.isnan(ptf2_returns))]\n",
    "ptf2_returns=ptf2_returns-np.mean(ptf2_returns)"
   ]
  },
  {
   "cell_type": "markdown",
   "metadata": {},
   "source": [
    "Let us look to historgram of returns:"
   ]
  },
  {
   "cell_type": "code",
   "execution_count": 18,
   "metadata": {},
   "outputs": [
    {
     "data": {
      "text/plain": [
       "(array([ 1.,  0.,  0.,  0.,  1.,  0.,  0.,  1.,  3.,  4., 13.,  9., 40.,\n",
       "        52., 58., 34., 23.,  2.,  5.,  2.]),\n",
       " array([-0.05393517, -0.05004237, -0.04614957, -0.04225677, -0.03836398,\n",
       "        -0.03447118, -0.03057838, -0.02668558, -0.02279278, -0.01889998,\n",
       "        -0.01500718, -0.01111438, -0.00722158, -0.00332878,  0.00056401,\n",
       "         0.00445681,  0.00834961,  0.01224241,  0.01613521,  0.02002801,\n",
       "         0.02392081]),\n",
       " <a list of 20 Patch objects>)"
      ]
     },
     "execution_count": 18,
     "metadata": {},
     "output_type": "execute_result"
    },
    {
     "data": {
      "image/png": "[encoded data removed]",
      "text/plain": [
       "<Figure size 432x288 with 1 Axes>"
      ]
     },
     "metadata": {
      "needs_background": "light"
     },
     "output_type": "display_data"
    }
   ],
   "source": [
    "plt.hist(ptf2_returns,bins=20)"
   ]
  },
  {
   "cell_type": "markdown",
   "metadata": {},
   "source": [
    "Quite different from normal! We have cleaned daily returns (non NaN and zero mean)... let's look at historical VaR:"
   ]
  },
  {
   "cell_type": "code",
   "execution_count": 19,
   "metadata": {},
   "outputs": [
    {
     "data": {
      "text/plain": [
       "-0.013960430647339348"
      ]
     },
     "execution_count": 19,
     "metadata": {},
     "output_type": "execute_result"
    }
   ],
   "source": [
    "np.percentile(ptf2_returns,5)"
   ]
  },
  {
   "cell_type": "markdown",
   "metadata": {},
   "source": [
    "Let's get to yearly time horizon (square root rule again...):"
   ]
  },
  {
   "cell_type": "code",
   "execution_count": 20,
   "metadata": {},
   "outputs": [
    {
     "data": {
      "text/plain": [
       "-0.22073378981205602"
      ]
     },
     "execution_count": 20,
     "metadata": {},
     "output_type": "execute_result"
    }
   ],
   "source": [
    "np.percentile(ptf2_returns,5)*(250**0.5)"
   ]
  },
  {
   "cell_type": "markdown",
   "metadata": {},
   "source": [
    "So **historical VaR is -22.07%**"
   ]
  },
  {
   "cell_type": "code",
   "execution_count": null,
   "metadata": {},
   "outputs": [],
   "source": []
  }
 ],
 "metadata": {
  "kernelspec": {
   "display_name": "Python 3",
   "language": "python",
   "name": "python3"
  },
  "language_info": {
   "codemirror_mode": {
    "name": "ipython",
    "version": 3
   },
   "file_extension": ".py",
   "mimetype": "text/x-python",
   "name": "python",
   "nbconvert_exporter": "python",
   "pygments_lexer": "ipython3",
   "version": "3.7.5"
  }
 },
 "nbformat": 4,
 "nbformat_minor": 4
}
