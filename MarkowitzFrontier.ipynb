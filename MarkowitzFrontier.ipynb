{
 "cells": [
  {
   "cell_type": "markdown",
   "metadata": {},
   "source": [
    "# Markowitz Frontier with Python\n",
    "We will draw the Markowitz frontier for a three asset portfolio"
   ]
  },
  {
   "cell_type": "code",
   "execution_count": 1,
   "metadata": {},
   "outputs": [],
   "source": [
    "from pandas_datareader import data\n",
    "import pandas as pd\n",
    "import numpy as np\n",
    "import matplotlib.pyplot as plt"
   ]
  },
  {
   "cell_type": "markdown",
   "metadata": {},
   "source": [
    "## Time series\n",
    "We will download the time series of three ETFs from yahoo finance"
   ]
  },
  {
   "cell_type": "code",
   "execution_count": 2,
   "metadata": {},
   "outputs": [],
   "source": [
    "eustoxx600 = data.DataReader(\"EXSA.MI\", \n",
    "                       start='2018-11-15', \n",
    "                       end='2019-11-15', \n",
    "                       data_source='yahoo')['Adj Close']"
   ]
  },
  {
   "cell_type": "code",
   "execution_count": 3,
   "metadata": {},
   "outputs": [],
   "source": [
    "sp500 = data.DataReader(\"XSPX.MI\", \n",
    "                       start='2018-11-15', \n",
    "                       end='2019-11-15', \n",
    "                       data_source='yahoo')['Adj Close']"
   ]
  },
  {
   "cell_type": "code",
   "execution_count": 4,
   "metadata": {},
   "outputs": [],
   "source": [
    "emerging = data.DataReader(\"EMKT.MI\", \n",
    "                       start='2018-11-15', \n",
    "                       end='2019-11-15', \n",
    "                       data_source='yahoo')['Adj Close']"
   ]
  },
  {
   "cell_type": "markdown",
   "metadata": {},
   "source": [
    "## Covariance Matrix\n",
    "There are different choices possible for the covariance matrix. For 1- or 2-year time series a good idea is to use weekly returns."
   ]
  },
  {
   "cell_type": "code",
   "execution_count": 5,
   "metadata": {},
   "outputs": [],
   "source": [
    "wk_euro=eustoxx600.resample('W').last()\n",
    "wk_us=sp500.resample('W').last()\n",
    "wk_emg=emerging.resample('W').last()"
   ]
  },
  {
   "cell_type": "code",
   "execution_count": 6,
   "metadata": {},
   "outputs": [
    {
     "data": {
      "text/plain": [
       "Date\n",
       "2018-11-18    35.365002\n",
       "2018-11-25    34.994999\n",
       "2018-12-02    35.305000\n",
       "2018-12-09    34.174999\n",
       "2018-12-16    34.285000\n",
       "Freq: W-SUN, Name: Adj Close, dtype: float64"
      ]
     },
     "execution_count": 6,
     "metadata": {},
     "output_type": "execute_result"
    }
   ],
   "source": [
    "wk_euro.head()"
   ]
  },
  {
   "cell_type": "code",
   "execution_count": 7,
   "metadata": {},
   "outputs": [
    {
     "data": {
      "text/plain": [
       "Date\n",
       "2018-11-18    43.240002\n",
       "2018-11-25    42.165001\n",
       "2018-12-02    43.750000\n",
       "2018-12-09    42.195000\n",
       "2018-12-16    41.965000\n",
       "Freq: W-SUN, Name: Adj Close, dtype: float64"
      ]
     },
     "execution_count": 7,
     "metadata": {},
     "output_type": "execute_result"
    }
   ],
   "source": [
    "wk_us.head()"
   ]
  },
  {
   "cell_type": "code",
   "execution_count": 8,
   "metadata": {},
   "outputs": [
    {
     "data": {
      "text/plain": [
       "Date\n",
       "2018-11-18    9.554\n",
       "2018-11-25    9.451\n",
       "2018-12-02    9.696\n",
       "2018-12-09    9.518\n",
       "2018-12-16    9.547\n",
       "Freq: W-SUN, Name: Adj Close, dtype: float64"
      ]
     },
     "execution_count": 8,
     "metadata": {},
     "output_type": "execute_result"
    }
   ],
   "source": [
    "wk_emg.head()"
   ]
  },
  {
   "cell_type": "code",
   "execution_count": 9,
   "metadata": {},
   "outputs": [],
   "source": [
    "ptf=pd.DataFrame({'eu': np.log(wk_euro).diff(), 'us': np.log(wk_us).diff(), 'emg' : np.log(wk_emg).diff()})"
   ]
  },
  {
   "cell_type": "code",
   "execution_count": 10,
   "metadata": {},
   "outputs": [
    {
     "data": {
      "text/html": [
       "<div>\n",
       "<style scoped>\n",
       "    .dataframe tbody tr th:only-of-type {\n",
       "        vertical-align: middle;\n",
       "    }\n",
       "\n",
       "    .dataframe tbody tr th {\n",
       "        vertical-align: top;\n",
       "    }\n",
       "\n",
       "    .dataframe thead th {\n",
       "        text-align: right;\n",
       "    }\n",
       "</style>\n",
       "<table border=\"1\" class=\"dataframe\">\n",
       "  <thead>\n",
       "    <tr style=\"text-align: right;\">\n",
       "      <th></th>\n",
       "      <th>eu</th>\n",
       "      <th>us</th>\n",
       "      <th>emg</th>\n",
       "    </tr>\n",
       "    <tr>\n",
       "      <th>Date</th>\n",
       "      <th></th>\n",
       "      <th></th>\n",
       "      <th></th>\n",
       "    </tr>\n",
       "  </thead>\n",
       "  <tbody>\n",
       "    <tr>\n",
       "      <th>2018-11-18</th>\n",
       "      <td>NaN</td>\n",
       "      <td>NaN</td>\n",
       "      <td>NaN</td>\n",
       "    </tr>\n",
       "    <tr>\n",
       "      <th>2018-11-25</th>\n",
       "      <td>-0.010518</td>\n",
       "      <td>-0.025176</td>\n",
       "      <td>-0.010839</td>\n",
       "    </tr>\n",
       "    <tr>\n",
       "      <th>2018-12-02</th>\n",
       "      <td>0.008819</td>\n",
       "      <td>0.036901</td>\n",
       "      <td>0.025593</td>\n",
       "    </tr>\n",
       "    <tr>\n",
       "      <th>2018-12-09</th>\n",
       "      <td>-0.032530</td>\n",
       "      <td>-0.036190</td>\n",
       "      <td>-0.018529</td>\n",
       "    </tr>\n",
       "    <tr>\n",
       "      <th>2018-12-16</th>\n",
       "      <td>0.003214</td>\n",
       "      <td>-0.005466</td>\n",
       "      <td>0.003042</td>\n",
       "    </tr>\n",
       "  </tbody>\n",
       "</table>\n",
       "</div>"
      ],
      "text/plain": [
       "                  eu        us       emg\n",
       "Date                                    \n",
       "2018-11-18       NaN       NaN       NaN\n",
       "2018-11-25 -0.010518 -0.025176 -0.010839\n",
       "2018-12-02  0.008819  0.036901  0.025593\n",
       "2018-12-09 -0.032530 -0.036190 -0.018529\n",
       "2018-12-16  0.003214 -0.005466  0.003042"
      ]
     },
     "execution_count": 10,
     "metadata": {},
     "output_type": "execute_result"
    }
   ],
   "source": [
    "ptf.head()"
   ]
  },
  {
   "cell_type": "code",
   "execution_count": 11,
   "metadata": {},
   "outputs": [],
   "source": [
    "CovMatrixDF=ptf.cov()"
   ]
  },
  {
   "cell_type": "code",
   "execution_count": 12,
   "metadata": {},
   "outputs": [
    {
     "data": {
      "text/html": [
       "<div>\n",
       "<style scoped>\n",
       "    .dataframe tbody tr th:only-of-type {\n",
       "        vertical-align: middle;\n",
       "    }\n",
       "\n",
       "    .dataframe tbody tr th {\n",
       "        vertical-align: top;\n",
       "    }\n",
       "\n",
       "    .dataframe thead th {\n",
       "        text-align: right;\n",
       "    }\n",
       "</style>\n",
       "<table border=\"1\" class=\"dataframe\">\n",
       "  <thead>\n",
       "    <tr style=\"text-align: right;\">\n",
       "      <th></th>\n",
       "      <th>eu</th>\n",
       "      <th>us</th>\n",
       "      <th>emg</th>\n",
       "    </tr>\n",
       "  </thead>\n",
       "  <tbody>\n",
       "    <tr>\n",
       "      <th>eu</th>\n",
       "      <td>0.000266</td>\n",
       "      <td>0.000300</td>\n",
       "      <td>0.000258</td>\n",
       "    </tr>\n",
       "    <tr>\n",
       "      <th>us</th>\n",
       "      <td>0.000300</td>\n",
       "      <td>0.000445</td>\n",
       "      <td>0.000329</td>\n",
       "    </tr>\n",
       "    <tr>\n",
       "      <th>emg</th>\n",
       "      <td>0.000258</td>\n",
       "      <td>0.000329</td>\n",
       "      <td>0.000446</td>\n",
       "    </tr>\n",
       "  </tbody>\n",
       "</table>\n",
       "</div>"
      ],
      "text/plain": [
       "           eu        us       emg\n",
       "eu   0.000266  0.000300  0.000258\n",
       "us   0.000300  0.000445  0.000329\n",
       "emg  0.000258  0.000329  0.000446"
      ]
     },
     "execution_count": 12,
     "metadata": {},
     "output_type": "execute_result"
    }
   ],
   "source": [
    "CovMatrixDF"
   ]
  },
  {
   "cell_type": "code",
   "execution_count": 13,
   "metadata": {},
   "outputs": [
    {
     "name": "stdout",
     "output_type": "stream",
     "text": [
      "[[0.0138104  0.01557703 0.01340294]\n",
      " [0.01557703 0.02316381 0.01709364]\n",
      " [0.01340294 0.01709364 0.02319908]]\n"
     ]
    }
   ],
   "source": [
    "CovMatrix=52*CovMatrixDF.values\n",
    "print(CovMatrix)"
   ]
  },
  {
   "cell_type": "markdown",
   "metadata": {},
   "source": [
    "CovMatrix is now the annualized covariance matrix."
   ]
  },
  {
   "cell_type": "markdown",
   "metadata": {},
   "source": [
    "## Returns\n",
    "Here we will use historical returns: mind the fact that there are many methods used to estimate future returns."
   ]
  },
  {
   "cell_type": "code",
   "execution_count": 14,
   "metadata": {},
   "outputs": [],
   "source": [
    "difference=(ptf['eu'].index.values[52]-ptf['eu'].index.values[0]) / np.timedelta64(1,'D') / 365"
   ]
  },
  {
   "cell_type": "code",
   "execution_count": 15,
   "metadata": {},
   "outputs": [
    {
     "data": {
      "text/plain": [
       "0.9972602739726028"
      ]
     },
     "execution_count": 15,
     "metadata": {},
     "output_type": "execute_result"
    }
   ],
   "source": [
    "difference"
   ]
  },
  {
   "cell_type": "code",
   "execution_count": 16,
   "metadata": {},
   "outputs": [
    {
     "data": {
      "text/plain": [
       "250"
      ]
     },
     "execution_count": 16,
     "metadata": {},
     "output_type": "execute_result"
    }
   ],
   "source": [
    "len(eustoxx600.values)"
   ]
  },
  {
   "cell_type": "code",
   "execution_count": 17,
   "metadata": {},
   "outputs": [],
   "source": [
    "R=(np.array([np.log(eustoxx600[248]),np.log(sp500[248]),np.log(emerging[248])])\n",
    "   -np.array([np.log(eustoxx600[0]),np.log(sp500[0]),np.log(emerging[0])]))/difference"
   ]
  },
  {
   "cell_type": "code",
   "execution_count": 18,
   "metadata": {},
   "outputs": [
    {
     "data": {
      "text/plain": [
       "array([0.12325496, 0.1824735 , 0.11237786])"
      ]
     },
     "execution_count": 18,
     "metadata": {},
     "output_type": "execute_result"
    }
   ],
   "source": [
    "R"
   ]
  },
  {
   "cell_type": "markdown",
   "metadata": {},
   "source": [
    "Now R is the vector of annualized logarithmic returns."
   ]
  },
  {
   "cell_type": "markdown",
   "metadata": {},
   "source": [
    "## Optimization\n",
    "We will use lagrange multipliers method to draw the efficient frontier. Let's define a function..."
   ]
  },
  {
   "cell_type": "code",
   "execution_count": 19,
   "metadata": {},
   "outputs": [],
   "source": [
    "def Optimizer(Robj,R,Sigma):\n",
    "    aux1=np.concatenate((Sigma,[R]),axis=0)\n",
    "    aux2=np.concatenate((R,[0]),axis=0)\n",
    "    M=np.concatenate((aux1,np.transpose([aux2])),axis=1)\n",
    "    B=np.concatenate((np.zeros(R.shape),[Robj]))\n",
    "    A=np.linalg.solve(M,B)\n",
    "    Weights=A[:-1]\n",
    "    Vol=(np.dot(Weights,np.dot(Weights,Sigma)))**0.5\n",
    "    return([Weights,Vol])\n",
    "    "
   ]
  },
  {
   "cell_type": "markdown",
   "metadata": {},
   "source": [
    "Now we will draw the frontier..."
   ]
  },
  {
   "cell_type": "code",
   "execution_count": 20,
   "metadata": {},
   "outputs": [
    {
     "data": {
      "text/plain": [
       "<function matplotlib.pyplot.show(*args, **kw)>"
      ]
     },
     "execution_count": 20,
     "metadata": {},
     "output_type": "execute_result"
    },
    {
     "data": {
      "image/png": "[encoded data removed]",
      "text/plain": [
       "<Figure size 432x288 with 1 Axes>"
      ]
     },
     "metadata": {
      "needs_background": "light"
     },
     "output_type": "display_data"
    }
   ],
   "source": [
    "EffX=[]\n",
    "EffY=[]\n",
    "for i1 in range(0,20):\n",
    "    robj=i1*0.005+0.05\n",
    "    Ysig=Optimizer(robj,R,CovMatrix)[1]\n",
    "    EffX.append(robj)\n",
    "    EffY.append(Ysig)\n",
    "plt.xlabel(\"Risk\")\n",
    "plt.ylabel(\"Return\")\n",
    "plt.plot(EffY,EffX)\n",
    "plt.show"
   ]
  },
  {
   "cell_type": "code",
   "execution_count": 21,
   "metadata": {},
   "outputs": [
    {
     "data": {
      "text/plain": [
       "0.818879049256635"
      ]
     },
     "execution_count": 21,
     "metadata": {},
     "output_type": "execute_result"
    }
   ],
   "source": [
    "(EffY[5]-EffY[0])/(EffX[5]-EffX[0])"
   ]
  },
  {
   "cell_type": "code",
   "execution_count": 22,
   "metadata": {},
   "outputs": [
    {
     "data": {
      "text/plain": [
       "0.8188790492566353"
      ]
     },
     "execution_count": 22,
     "metadata": {},
     "output_type": "execute_result"
    }
   ],
   "source": [
    "(EffY[19]-EffY[14])/(EffX[19]-EffX[14])"
   ]
  },
  {
   "cell_type": "markdown",
   "metadata": {},
   "source": [
    "So there is a curvature (very small...) ! Let's look at composition, for example at Return=0.1"
   ]
  },
  {
   "cell_type": "code",
   "execution_count": 23,
   "metadata": {},
   "outputs": [
    {
     "data": {
      "text/plain": [
       "[array([ 0.10226656,  0.57721633, -0.15956475]), 0.08188790492566353]"
      ]
     },
     "execution_count": 23,
     "metadata": {},
     "output_type": "execute_result"
    }
   ],
   "source": [
    "Optimizer(0.1,R,CovMatrix)"
   ]
  },
  {
   "cell_type": "markdown",
   "metadata": {},
   "source": [
    "Uhm... we can go short in this example... let us assume not. Let's put in positive weights and full investment constraints.\n",
    "Of course, we shall go to numeric optimization, but in this case (only three assets) it's not difficult..."
   ]
  },
  {
   "cell_type": "code",
   "execution_count": 24,
   "metadata": {},
   "outputs": [
    {
     "data": {
      "image/png": "[encoded data removed]",
      "text/plain": [
       "<Figure size 432x288 with 1 Axes>"
      ]
     },
     "metadata": {
      "needs_background": "light"
     },
     "output_type": "display_data"
    }
   ],
   "source": [
    "PtfX=[]\n",
    "PtfY=[]\n",
    "for i1 in range(0,20):\n",
    "    for i2 in range(0,20):\n",
    "        w1=i1*0.05\n",
    "        w2=i2*0.05\n",
    "        w3=1-w1-w2\n",
    "        if (w3>=0):\n",
    "            Xrend=np.dot([w1,w2,w3],R)\n",
    "            Ysig=np.dot([w1,w2,w3],np.dot([w1,w2,w3],CovMatrix))**0.5\n",
    "            PtfX.append(Xrend)\n",
    "            PtfY.append(Ysig)\n",
    "            \n",
    "plt.scatter(PtfY,PtfX)\n",
    "plt.xlabel(\"Risk\")\n",
    "plt.ylabel(\"Return\")\n",
    "plt.show()\n",
    "        "
   ]
  },
  {
   "cell_type": "markdown",
   "metadata": {},
   "source": [
    "Now curvature is much more visible. Let us draw the sharpe index. We will assume a risk free rate of -0.006755"
   ]
  },
  {
   "cell_type": "code",
   "execution_count": 25,
   "metadata": {},
   "outputs": [
    {
     "data": {
      "image/png": "[encoded data removed]",
      "text/plain": [
       "<Figure size 432x288 with 1 Axes>"
      ]
     },
     "metadata": {
      "needs_background": "light"
     },
     "output_type": "display_data"
    }
   ],
   "source": [
    "Sharpe=[]\n",
    "for i in range(0,len(PtfX)):\n",
    "    Sharpe.append((PtfX[i]+0.006755)/PtfY[i])\n",
    "plt.xlabel(\"Point\")\n",
    "plt.ylabel(\"Sharpe\")\n",
    "plt.plot(Sharpe)\n",
    "plt.show()"
   ]
  },
  {
   "cell_type": "code",
   "execution_count": 26,
   "metadata": {},
   "outputs": [
    {
     "data": {
      "text/plain": [
       "1.2442331796027273"
      ]
     },
     "execution_count": 26,
     "metadata": {},
     "output_type": "execute_result"
    }
   ],
   "source": [
    "max(Sharpe)"
   ]
  },
  {
   "cell_type": "code",
   "execution_count": 27,
   "metadata": {},
   "outputs": [
    {
     "data": {
      "text/plain": [
       "57"
      ]
     },
     "execution_count": 27,
     "metadata": {},
     "output_type": "execute_result"
    }
   ],
   "source": [
    "Sharpe.index(max(Sharpe))"
   ]
  },
  {
   "cell_type": "code",
   "execution_count": 28,
   "metadata": {},
   "outputs": [
    {
     "data": {
      "text/plain": [
       "0.1765516478257097"
      ]
     },
     "execution_count": 28,
     "metadata": {},
     "output_type": "execute_result"
    }
   ],
   "source": [
    "PtfX[57]"
   ]
  },
  {
   "cell_type": "code",
   "execution_count": 29,
   "metadata": {},
   "outputs": [
    {
     "data": {
      "text/plain": [
       "0.14732499569271887"
      ]
     },
     "execution_count": 29,
     "metadata": {},
     "output_type": "execute_result"
    }
   ],
   "source": [
    "PtfY[57]"
   ]
  },
  {
   "cell_type": "markdown",
   "metadata": {},
   "source": [
    "The optimal market porfolio has a return of 17.65% and a volatility of 14.73%\n",
    "Lets draw che CAPM line..."
   ]
  },
  {
   "cell_type": "code",
   "execution_count": 30,
   "metadata": {},
   "outputs": [
    {
     "data": {
      "image/png": "[encoded data removed]",
      "text/plain": [
       "<Figure size 432x288 with 1 Axes>"
      ]
     },
     "metadata": {
      "needs_background": "light"
     },
     "output_type": "display_data"
    }
   ],
   "source": [
    "plt.scatter(PtfY,PtfX)\n",
    "plt.plot([0.1,0.16],[-0.006755+1.24423318*0.1,-0.006755+1.24423318*0.16])\n",
    "plt.show()"
   ]
  },
  {
   "cell_type": "markdown",
   "metadata": {},
   "source": [
    "Let's look at diversification..."
   ]
  },
  {
   "cell_type": "code",
   "execution_count": 31,
   "metadata": {},
   "outputs": [
    {
     "data": {
      "image/png": "[encoded data removed]",
      "text/plain": [
       "<Figure size 432x288 with 1 Axes>"
      ]
     },
     "metadata": {
      "needs_background": "light"
     },
     "output_type": "display_data"
    }
   ],
   "source": [
    "PtfX=[]\n",
    "PtfY=[]\n",
    "for i1 in range(0,21):\n",
    "    for i2 in range(0,21):\n",
    "        w1=i1*0.05\n",
    "        w2=i2*0.05\n",
    "        w3=1-w1-w2\n",
    "        if (w3>=0):\n",
    "            YH=(w1*w1+w2*w2+w3*w3)\n",
    "            Xsharpe=(np.dot([w1,w2,w3],R)+0.006755)/np.dot([w1,w2,w3],np.dot([w1,w2,w3],CovMatrix))**0.5\n",
    "            PtfX.append(Xsharpe)\n",
    "            PtfY.append(YH)\n",
    "            \n",
    "plt.scatter(PtfX,PtfY)\n",
    "plt.xlabel(\"Sharpe\")\n",
    "plt.ylabel(\"Hersfindahl\")\n",
    "plt.show()"
   ]
  },
  {
   "cell_type": "markdown",
   "metadata": {},
   "source": [
    "In particulare we see that"
   ]
  },
  {
   "cell_type": "code",
   "execution_count": 32,
   "metadata": {},
   "outputs": [
    {
     "data": {
      "text/plain": [
       "0.7350000000000001"
      ]
     },
     "execution_count": 32,
     "metadata": {},
     "output_type": "execute_result"
    }
   ],
   "source": [
    "PtfY[57]"
   ]
  },
  {
   "cell_type": "code",
   "execution_count": 33,
   "metadata": {},
   "outputs": [
    {
     "data": {
      "text/plain": [
       "1.235845440448274"
      ]
     },
     "execution_count": 33,
     "metadata": {},
     "output_type": "execute_result"
    }
   ],
   "source": [
    "PtfX[57]"
   ]
  },
  {
   "cell_type": "markdown",
   "metadata": {},
   "source": [
    "An H index of 0.735 is very high... "
   ]
  },
  {
   "cell_type": "markdown",
   "metadata": {},
   "source": [
    "We created an efficient frontier, both using lagrangian and numerical approaches. We noticed that the optimal portfolios are quite concentrated. This is an aspect that lead to instability in practical applications. Let's look inside it:"
   ]
  },
  {
   "cell_type": "code",
   "execution_count": 34,
   "metadata": {},
   "outputs": [],
   "source": [
    "W1_Data=[]\n",
    "BestPtd=Optimizer(0.1765,R,CovMatrix)\n",
    "for i in range(1000):\n",
    "    Errors=np.random.uniform(size=3)*0.1+0.95\n",
    "    CovM2=np.ones((3,3))\n",
    "    CovM2[0,1]=CovM2[1,0]=Errors[0]\n",
    "    CovM2[0,2]=CovM2[2,0]=Errors[1]\n",
    "    CovM2[1,2]=CovM2[2,1]=Errors[2]\n",
    "    for j in range(3):\n",
    "        for k in range(3):\n",
    "            CovM2[j,k]=CovMatrix[j,k]*CovM2[j,k]\n",
    "    CurrentPtd=Optimizer(0.1765,R,CovM2)\n",
    "    CurrentW=CurrentPtd[0][0]\n",
    "    W1_Data.append(CurrentW)"
   ]
  },
  {
   "cell_type": "code",
   "execution_count": 35,
   "metadata": {},
   "outputs": [
    {
     "data": {
      "text/plain": [
       "[array([ 0.18050047,  1.01878682, -0.28163178]), 0.14453215219379612]"
      ]
     },
     "execution_count": 35,
     "metadata": {},
     "output_type": "execute_result"
    }
   ],
   "source": [
    "BestPtd"
   ]
  },
  {
   "cell_type": "code",
   "execution_count": 36,
   "metadata": {},
   "outputs": [
    {
     "data": {
      "image/png": "[encoded data removed]",
      "text/plain": [
       "<Figure size 432x288 with 1 Axes>"
      ]
     },
     "metadata": {
      "needs_background": "light"
     },
     "output_type": "display_data"
    }
   ],
   "source": [
    "plt.hist(W1_Data)\n",
    "plt.show()"
   ]
  },
  {
   "cell_type": "markdown",
   "metadata": {},
   "source": [
    "Wow... with a central investment weight of about 20%, if we have a 5% error on correlation we can have to invest from -20% to +40% on the first asset...\n",
    "Let's look at leverage:"
   ]
  },
  {
   "cell_type": "code",
   "execution_count": 37,
   "metadata": {},
   "outputs": [],
   "source": [
    "L_Data=[]\n",
    "BestPtd=Optimizer(0.1765,R,CovMatrix)\n",
    "for i in range(1000):\n",
    "    Errors=np.random.uniform(size=3)*0.1+0.95\n",
    "    CovM2=np.ones((3,3))\n",
    "    CovM2[0,1]=CovM2[1,0]=Errors[0]\n",
    "    CovM2[0,2]=CovM2[2,0]=Errors[1]\n",
    "    CovM2[1,2]=CovM2[2,1]=Errors[2]\n",
    "    for j in range(3):\n",
    "        for k in range(3):\n",
    "            CovM2[j,k]=CovMatrix[j,k]*CovM2[j,k]\n",
    "    CurrentPtd=Optimizer(0.1765,R,CovM2)\n",
    "    CurrentL=CurrentPtd[0][0]+CurrentPtd[0][1]+CurrentPtd[0][2]\n",
    "    L_Data.append(CurrentL)"
   ]
  },
  {
   "cell_type": "code",
   "execution_count": 39,
   "metadata": {},
   "outputs": [
    {
     "data": {
      "image/png": "[encoded data removed]",
      "text/plain": [
       "<Figure size 432x288 with 1 Axes>"
      ]
     },
     "metadata": {
      "needs_background": "light"
     },
     "output_type": "display_data"
    }
   ],
   "source": [
    "plt.hist(L_Data)\n",
    "plt.show()"
   ]
  },
  {
   "cell_type": "markdown",
   "metadata": {},
   "source": [
    "Lot of instability here too."
   ]
  },
  {
   "cell_type": "markdown",
   "metadata": {},
   "source": [
    "## Conclusion\n",
    "Markowitz approach leads to efficient but concentrated and unstable portfolios. Unfortunately instability arises in normal applications due to uncertainty in future returns and, regarding covariance matrix, because of statistical error on estimations.\n",
    "To address these problems different approaches were developed, like Black-Litterman and Bootstrapping techniques."
   ]
  }
 ],
 "metadata": {
  "kernelspec": {
   "display_name": "Python 3",
   "language": "python",
   "name": "python3"
  },
  "language_info": {
   "codemirror_mode": {
    "name": "ipython",
    "version": 3
   },
   "file_extension": ".py",
   "mimetype": "text/x-python",
   "name": "python",
   "nbconvert_exporter": "python",
   "pygments_lexer": "ipython3",
   "version": "3.7.5"
  }
 },
 "nbformat": 4,
 "nbformat_minor": 4
}
